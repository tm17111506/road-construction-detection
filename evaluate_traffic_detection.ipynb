{
 "cells": [
  {
   "cell_type": "code",
   "execution_count": 2,
   "id": "d0d7ab5b",
   "metadata": {},
   "outputs": [
    {
     "name": "stdout",
     "output_type": "stream",
     "text": [
      "1.9.0+cu102 True\n"
     ]
    }
   ],
   "source": [
    "# check pytorch installation: \n",
    "import torch, torchvision\n",
    "print(torch.__version__, torch.cuda.is_available())\n",
    "assert torch.__version__.startswith(\"1.9\")   # please manually install torch 1.9 if Colab changes its default version\n",
    "# Some basic setup:\n",
    "# Setup detectron2 logger\n",
    "import detectron2\n",
    "from detectron2.utils.logger import setup_logger\n",
    "setup_logger()\n",
    "import tqdm\n",
    "\n",
    "# import some common libraries\n",
    "import numpy as np\n",
    "import os, json, cv2, random\n",
    "# from google.colab.patches import cv2_imshow\n",
    "from matplotlib import pyplot as plt\n",
    "from itertools import chain\n",
    "\n",
    "# import some common detectron2 utilities\n",
    "from detectron2 import model_zoo\n",
    "from detectron2.engine import DefaultPredictor\n",
    "from detectron2.config import get_cfg\n",
    "from detectron2.utils.visualizer import Visualizer\n",
    "from detectron2.data import MetadataCatalog, DatasetCatalog\n",
    "from detectron2.data import detection_utils as utils\n",
    "from matplotlib import pyplot as plt\n",
    "from matplotlib.pyplot import figure\n",
    "from collections import OrderedDict\n",
    "from detectron2.data import (\n",
    "    DatasetCatalog,\n",
    "    MetadataCatalog,\n",
    "    build_detection_train_loader,\n",
    "    build_detection_test_loader,\n",
    "    DatasetMapper\n",
    ")\n",
    "from detectron2.evaluation.coco_evaluation import COCOEvaluator\n",
    "from detectron2.modeling import build_model"
   ]
  },
  {
   "cell_type": "code",
   "execution_count": 3,
   "id": "62c211ad",
   "metadata": {},
   "outputs": [],
   "source": [
    "# Register the datasets\n",
    "def get_data(dataroot, file_name):\n",
    "    def ret_data():\n",
    "        output_path = os.path.join(dataroot, file_name)\n",
    "        print(output_path)\n",
    "        assert os.path.exists(output_path)\n",
    "        with open(output_path, 'r') as fd:\n",
    "            data = json.load(fd)\n",
    "        fd.close()\n",
    "        return data\n",
    "    return ret_data"
   ]
  },
  {
   "cell_type": "code",
   "execution_count": 4,
   "id": "ccfada8f",
   "metadata": {},
   "outputs": [],
   "source": [
    "dataroot = '/usr0/tma1/datasets/nuimages/detectron_data'\n",
    "train_file = 'v1.0-train_trafficcone_detectron.json'\n",
    "val_file = 'val_val_trafficcone_detectron.json'\n",
    "test_file = 'val_test_trafficcone_detectron.json'"
   ]
  },
  {
   "cell_type": "code",
   "execution_count": 5,
   "id": "91b06589",
   "metadata": {},
   "outputs": [],
   "source": [
    "category_dict = {0: 'traffic_cones'}\n",
    "data_train = DatasetCatalog.register(\"nuimages_train_trafficone\", get_data(dataroot, train_file))\n",
    "MetadataCatalog.get(\"nuimages_train_trafficone\").thing_classes = category_dict\n",
    "data_val = DatasetCatalog.register(\"nuimages_val_trafficone\", get_data(dataroot, val_file))\n",
    "MetadataCatalog.get(\"nuimages_val_trafficone\").thing_classes = category_dict\n",
    "data_test = DatasetCatalog.register(\"nuimages_test_trafficone\", get_data(dataroot, test_file))\n",
    "MetadataCatalog.get(\"nuimages_test_trafficone\").thing_classes = category_dict"
   ]
  },
  {
   "cell_type": "code",
   "execution_count": 10,
   "id": "31ec6354",
   "metadata": {},
   "outputs": [],
   "source": [
    "from datetime import datetime\n",
    "now = datetime.now()\n",
    "date_time = now.strftime(\"%Y-%m-%d-%H-%M-%S\")\n",
    "ckpt_date_time = '2021-10-26-01-38-57'\n",
    "gt_folder = '/usr0/tma1/datasets/nuimages/detectron_data'"
   ]
  },
  {
   "cell_type": "code",
   "execution_count": 11,
   "id": "45a895bc",
   "metadata": {},
   "outputs": [],
   "source": [
    "# Parameters\n",
    "show_image=False\n",
    "output_dir='/usr0/tma1/datasets/nuimages/object_detection_annotations'\n",
    "predicted_dir='/usr0/tma1/traffic_cone_detection/output'\n",
    "visualize_dataset_name = 'nuimages_test_trafficone'\n",
    "split = 'test'\n",
    "\n",
    "if not os.path.exists(os.path.join(predicted_dir, date_time)):\n",
    "    os.mkdir(os.path.join(predicted_dir, date_time))\n",
    "\n",
    "predicted_output_folder = os.path.join(os.path.join(predicted_dir, date_time), 'predicted_output')\n",
    "if not os.path.exists(predicted_output_folder):\n",
    "    os.mkdir(predicted_output_folder)\n",
    "    \n",
    "prediction_name = date_time + '_' + visualize_dataset_name\n",
    "predicted_output_folder = os.path.join(predicted_output_folder, prediction_name)\n",
    "if not os.path.exists(predicted_output_folder):\n",
    "    os.mkdir(predicted_output_folder)\n",
    "    \n",
    "output_folder = os.path.join(os.path.join(predicted_dir, date_time), 'evaluation_output')\n",
    "if not os.path.exists(output_folder):\n",
    "    os.mkdir(output_folder)\n",
    "\n",
    "output_split_folder = os.path.join(output_folder, visualize_dataset_name)\n",
    "if not os.path.exists(output_split_folder):\n",
    "    os.mkdir(output_split_folder)"
   ]
  },
  {
   "cell_type": "code",
   "execution_count": 12,
   "id": "ae06da86",
   "metadata": {},
   "outputs": [],
   "source": [
    "cfg = get_cfg()\n",
    "cfg.merge_from_file(model_zoo.get_config_file(\"COCO-Detection/faster_rcnn_R_50_FPN_3x.yaml\"))\n",
    "\n",
    "# Modified configurations\n",
    "cfg.MODEL.ROI_HEADS.NUM_CLASSES = 1\n",
    "cfg.MODEL.ROI_HEADS.SCORE_THRESH_TEST = 0.05\n",
    "# cfg.MODEL.DEVICE='cpu'\n",
    "\n",
    "cfg.DATASETS.TRAIN = (\"nuimages_train_trafficone\",)\n",
    "cfg.DATASETS.TEST = (\"nuimages_test_trafficone\",)\n",
    "\n",
    "cfg.OUTPUT_DIR = os.path.join('/usr0/tma1/traffic_cone_detection/output', ckpt_date_time)\n",
    "cfg.MODEL.WEIGHTS = os.path.join(cfg.OUTPUT_DIR, \"model_0076499.pth\")\n",
    "# model = build_model(cfg)\n",
    "predictor = DefaultPredictor(cfg)"
   ]
  },
  {
   "cell_type": "code",
   "execution_count": 14,
   "id": "90280b37",
   "metadata": {},
   "outputs": [],
   "source": [
    "def format_instance(instance, category_dict):\n",
    "    class_name = category_dict[instance.get('pred_classes').data.cpu().numpy()[0]]\n",
    "    pred_boxes = instance.get('pred_boxes').tensor.data.cpu().numpy()[0]\n",
    "    score = instance.get('scores').data.cpu().numpy()[0]\n",
    "    return '{} {} {} {} {} {}'.format(class_name, score, int(pred_boxes[0]), int(pred_boxes[1]), int(pred_boxes[2]), int(pred_boxes[3]))"
   ]
  },
  {
   "cell_type": "code",
   "execution_count": 60,
   "id": "d103367c",
   "metadata": {},
   "outputs": [],
   "source": [
    "percentage = []\n",
    "area = []\n",
    "iou = []"
   ]
  },
  {
   "cell_type": "code",
   "execution_count": 61,
   "id": "3449ccb8",
   "metadata": {},
   "outputs": [],
   "source": [
    "def get_iou(b1, b2):\n",
    "    x_left = max(b1[0], b2[0])\n",
    "    x_right = min(b1[2], b2[2])\n",
    "    y_top = max(b1[1], b2[1])\n",
    "    y_bottom = min(b1[3], b2[3])\n",
    "    \n",
    "    if (x_right < x_left or y_bottom < y_top):\n",
    "        return 0.0\n",
    "    \n",
    "    b1_area = (b1[2] - b1[0]) * (b1[3] - b1[1])\n",
    "    b2_area = (b2[2] - b2[0]) * (b2[3] - b2[1])\n",
    "    \n",
    "    return ((x_right - x_left) * (y_bottom - y_top)) / (b1_area + b2_area)"
   ]
  },
  {
   "cell_type": "code",
   "execution_count": 62,
   "id": "440b9e01",
   "metadata": {},
   "outputs": [
    {
     "name": "stdout",
     "output_type": "stream",
     "text": [
      "/usr0/tma1/datasets/nuimages/detectron_data/val_test_trafficcone_detectron.json\n",
      "nuimages_test_trafficone\n"
     ]
    },
    {
     "name": "stderr",
     "output_type": "stream",
     "text": [
      "  0%|          | 0/2263 [00:00<?, ?it/s]/usr1/home/tma1/Desktop/venv/lib/python3.6/site-packages/torch/_tensor.py:575: UserWarning: floor_divide is deprecated, and will be removed in a future version of pytorch. It currently rounds toward 0 (like the 'trunc' function NOT 'floor'). This results in incorrect rounding for negative values.\n",
      "To keep the current behavior, use torch.div(a, b, rounding_mode='trunc'), or for actual floor division, use torch.div(a, b, rounding_mode='floor'). (Triggered internally at  /pytorch/aten/src/ATen/native/BinaryOps.cpp:467.)\n",
      "  return torch.floor_divide(self, other)\n",
      "/usr1/home/tma1/Desktop/venv/lib/python3.6/site-packages/torch/nn/functional.py:718: UserWarning: Named tensors and all their associated APIs are an experimental feature and subject to change. Please do not use them for anything important until they are released as stable. (Triggered internally at  /pytorch/c10/core/TensorImpl.h:1156.)\n",
      "  return torch.max_pool2d(input, kernel_size, stride, padding, dilation, ceil_mode)\n",
      " 17%|█▋        | 382/2263 [00:41<03:25,  9.14it/s]\n"
     ]
    },
    {
     "ename": "KeyboardInterrupt",
     "evalue": "",
     "output_type": "error",
     "traceback": [
      "\u001b[0;31m---------------------------------------------------------------------------\u001b[0m",
      "\u001b[0;31mKeyboardInterrupt\u001b[0m                         Traceback (most recent call last)",
      "\u001b[0;32m<ipython-input-62-2f75dedee9aa>\u001b[0m in \u001b[0;36m<module>\u001b[0;34m()\u001b[0m\n\u001b[1;32m      5\u001b[0m \u001b[0;32mfor\u001b[0m \u001b[0mdic\u001b[0m \u001b[0;32min\u001b[0m \u001b[0mtqdm\u001b[0m\u001b[0;34m.\u001b[0m\u001b[0mtqdm\u001b[0m\u001b[0;34m(\u001b[0m\u001b[0mdicts\u001b[0m\u001b[0;34m)\u001b[0m\u001b[0;34m:\u001b[0m\u001b[0;34m\u001b[0m\u001b[0;34m\u001b[0m\u001b[0m\n\u001b[1;32m      6\u001b[0m     \u001b[0mim\u001b[0m \u001b[0;34m=\u001b[0m \u001b[0mutils\u001b[0m\u001b[0;34m.\u001b[0m\u001b[0mread_image\u001b[0m\u001b[0;34m(\u001b[0m\u001b[0mdic\u001b[0m\u001b[0;34m[\u001b[0m\u001b[0;34m\"file_name\"\u001b[0m\u001b[0;34m]\u001b[0m\u001b[0;34m,\u001b[0m \u001b[0;34m\"RGB\"\u001b[0m\u001b[0;34m)\u001b[0m\u001b[0;34m\u001b[0m\u001b[0;34m\u001b[0m\u001b[0m\n\u001b[0;32m----> 7\u001b[0;31m     \u001b[0moutputs\u001b[0m \u001b[0;34m=\u001b[0m \u001b[0mpredictor\u001b[0m\u001b[0;34m(\u001b[0m\u001b[0mim\u001b[0m\u001b[0;34m)\u001b[0m\u001b[0;34m\u001b[0m\u001b[0;34m\u001b[0m\u001b[0m\n\u001b[0m\u001b[1;32m      8\u001b[0m     \u001b[0;32mfor\u001b[0m \u001b[0mi\u001b[0m \u001b[0;32min\u001b[0m \u001b[0mrange\u001b[0m\u001b[0;34m(\u001b[0m\u001b[0mlen\u001b[0m\u001b[0;34m(\u001b[0m\u001b[0moutputs\u001b[0m\u001b[0;34m[\u001b[0m\u001b[0;34m'instances'\u001b[0m\u001b[0;34m]\u001b[0m\u001b[0;34m)\u001b[0m\u001b[0;34m)\u001b[0m\u001b[0;34m:\u001b[0m\u001b[0;34m\u001b[0m\u001b[0;34m\u001b[0m\u001b[0m\n\u001b[1;32m      9\u001b[0m         \u001b[0minstance\u001b[0m \u001b[0;34m=\u001b[0m \u001b[0moutputs\u001b[0m\u001b[0;34m[\u001b[0m\u001b[0;34m'instances'\u001b[0m\u001b[0;34m]\u001b[0m\u001b[0;34m[\u001b[0m\u001b[0mi\u001b[0m\u001b[0;34m]\u001b[0m\u001b[0;34m\u001b[0m\u001b[0;34m\u001b[0m\u001b[0m\n",
      "\u001b[0;32m/usr1/home/tma1/Desktop/venv/lib/python3.6/site-packages/detectron2/engine/defaults.py\u001b[0m in \u001b[0;36m__call__\u001b[0;34m(self, original_image)\u001b[0m\n\u001b[1;32m    314\u001b[0m                 \u001b[0moriginal_image\u001b[0m \u001b[0;34m=\u001b[0m \u001b[0moriginal_image\u001b[0m\u001b[0;34m[\u001b[0m\u001b[0;34m:\u001b[0m\u001b[0;34m,\u001b[0m \u001b[0;34m:\u001b[0m\u001b[0;34m,\u001b[0m \u001b[0;34m:\u001b[0m\u001b[0;34m:\u001b[0m\u001b[0;34m-\u001b[0m\u001b[0;36m1\u001b[0m\u001b[0;34m]\u001b[0m\u001b[0;34m\u001b[0m\u001b[0;34m\u001b[0m\u001b[0m\n\u001b[1;32m    315\u001b[0m             \u001b[0mheight\u001b[0m\u001b[0;34m,\u001b[0m \u001b[0mwidth\u001b[0m \u001b[0;34m=\u001b[0m \u001b[0moriginal_image\u001b[0m\u001b[0;34m.\u001b[0m\u001b[0mshape\u001b[0m\u001b[0;34m[\u001b[0m\u001b[0;34m:\u001b[0m\u001b[0;36m2\u001b[0m\u001b[0;34m]\u001b[0m\u001b[0;34m\u001b[0m\u001b[0;34m\u001b[0m\u001b[0m\n\u001b[0;32m--> 316\u001b[0;31m             \u001b[0mimage\u001b[0m \u001b[0;34m=\u001b[0m \u001b[0mself\u001b[0m\u001b[0;34m.\u001b[0m\u001b[0maug\u001b[0m\u001b[0;34m.\u001b[0m\u001b[0mget_transform\u001b[0m\u001b[0;34m(\u001b[0m\u001b[0moriginal_image\u001b[0m\u001b[0;34m)\u001b[0m\u001b[0;34m.\u001b[0m\u001b[0mapply_image\u001b[0m\u001b[0;34m(\u001b[0m\u001b[0moriginal_image\u001b[0m\u001b[0;34m)\u001b[0m\u001b[0;34m\u001b[0m\u001b[0;34m\u001b[0m\u001b[0m\n\u001b[0m\u001b[1;32m    317\u001b[0m             \u001b[0mimage\u001b[0m \u001b[0;34m=\u001b[0m \u001b[0mtorch\u001b[0m\u001b[0;34m.\u001b[0m\u001b[0mas_tensor\u001b[0m\u001b[0;34m(\u001b[0m\u001b[0mimage\u001b[0m\u001b[0;34m.\u001b[0m\u001b[0mastype\u001b[0m\u001b[0;34m(\u001b[0m\u001b[0;34m\"float32\"\u001b[0m\u001b[0;34m)\u001b[0m\u001b[0;34m.\u001b[0m\u001b[0mtranspose\u001b[0m\u001b[0;34m(\u001b[0m\u001b[0;36m2\u001b[0m\u001b[0;34m,\u001b[0m \u001b[0;36m0\u001b[0m\u001b[0;34m,\u001b[0m \u001b[0;36m1\u001b[0m\u001b[0;34m)\u001b[0m\u001b[0;34m)\u001b[0m\u001b[0;34m\u001b[0m\u001b[0;34m\u001b[0m\u001b[0m\n\u001b[1;32m    318\u001b[0m \u001b[0;34m\u001b[0m\u001b[0m\n",
      "\u001b[0;32m/usr1/home/tma1/Desktop/venv/lib/python3.6/site-packages/detectron2/data/transforms/transform.py\u001b[0m in \u001b[0;36mapply_image\u001b[0;34m(self, img, interp)\u001b[0m\n\u001b[1;32m    120\u001b[0m             \u001b[0;32melse\u001b[0m\u001b[0;34m:\u001b[0m\u001b[0;34m\u001b[0m\u001b[0;34m\u001b[0m\u001b[0m\n\u001b[1;32m    121\u001b[0m                 \u001b[0mpil_image\u001b[0m \u001b[0;34m=\u001b[0m \u001b[0mImage\u001b[0m\u001b[0;34m.\u001b[0m\u001b[0mfromarray\u001b[0m\u001b[0;34m(\u001b[0m\u001b[0mimg\u001b[0m\u001b[0;34m)\u001b[0m\u001b[0;34m\u001b[0m\u001b[0;34m\u001b[0m\u001b[0m\n\u001b[0;32m--> 122\u001b[0;31m             \u001b[0mpil_image\u001b[0m \u001b[0;34m=\u001b[0m \u001b[0mpil_image\u001b[0m\u001b[0;34m.\u001b[0m\u001b[0mresize\u001b[0m\u001b[0;34m(\u001b[0m\u001b[0;34m(\u001b[0m\u001b[0mself\u001b[0m\u001b[0;34m.\u001b[0m\u001b[0mnew_w\u001b[0m\u001b[0;34m,\u001b[0m \u001b[0mself\u001b[0m\u001b[0;34m.\u001b[0m\u001b[0mnew_h\u001b[0m\u001b[0;34m)\u001b[0m\u001b[0;34m,\u001b[0m \u001b[0minterp_method\u001b[0m\u001b[0;34m)\u001b[0m\u001b[0;34m\u001b[0m\u001b[0;34m\u001b[0m\u001b[0m\n\u001b[0m\u001b[1;32m    123\u001b[0m             \u001b[0mret\u001b[0m \u001b[0;34m=\u001b[0m \u001b[0mnp\u001b[0m\u001b[0;34m.\u001b[0m\u001b[0masarray\u001b[0m\u001b[0;34m(\u001b[0m\u001b[0mpil_image\u001b[0m\u001b[0;34m)\u001b[0m\u001b[0;34m\u001b[0m\u001b[0;34m\u001b[0m\u001b[0m\n\u001b[1;32m    124\u001b[0m             \u001b[0;32mif\u001b[0m \u001b[0mlen\u001b[0m\u001b[0;34m(\u001b[0m\u001b[0mimg\u001b[0m\u001b[0;34m.\u001b[0m\u001b[0mshape\u001b[0m\u001b[0;34m)\u001b[0m \u001b[0;34m>\u001b[0m \u001b[0;36m2\u001b[0m \u001b[0;32mand\u001b[0m \u001b[0mimg\u001b[0m\u001b[0;34m.\u001b[0m\u001b[0mshape\u001b[0m\u001b[0;34m[\u001b[0m\u001b[0;36m2\u001b[0m\u001b[0;34m]\u001b[0m \u001b[0;34m==\u001b[0m \u001b[0;36m1\u001b[0m\u001b[0;34m:\u001b[0m\u001b[0;34m\u001b[0m\u001b[0;34m\u001b[0m\u001b[0m\n",
      "\u001b[0;32m/usr1/home/tma1/Desktop/venv/lib/python3.6/site-packages/PIL/Image.py\u001b[0m in \u001b[0;36mresize\u001b[0;34m(self, size, resample, box, reducing_gap)\u001b[0m\n\u001b[1;32m   1999\u001b[0m                 )\n\u001b[1;32m   2000\u001b[0m \u001b[0;34m\u001b[0m\u001b[0m\n\u001b[0;32m-> 2001\u001b[0;31m         \u001b[0;32mreturn\u001b[0m \u001b[0mself\u001b[0m\u001b[0;34m.\u001b[0m\u001b[0m_new\u001b[0m\u001b[0;34m(\u001b[0m\u001b[0mself\u001b[0m\u001b[0;34m.\u001b[0m\u001b[0mim\u001b[0m\u001b[0;34m.\u001b[0m\u001b[0mresize\u001b[0m\u001b[0;34m(\u001b[0m\u001b[0msize\u001b[0m\u001b[0;34m,\u001b[0m \u001b[0mresample\u001b[0m\u001b[0;34m,\u001b[0m \u001b[0mbox\u001b[0m\u001b[0;34m)\u001b[0m\u001b[0;34m)\u001b[0m\u001b[0;34m\u001b[0m\u001b[0;34m\u001b[0m\u001b[0m\n\u001b[0m\u001b[1;32m   2002\u001b[0m \u001b[0;34m\u001b[0m\u001b[0m\n\u001b[1;32m   2003\u001b[0m     \u001b[0;32mdef\u001b[0m \u001b[0mreduce\u001b[0m\u001b[0;34m(\u001b[0m\u001b[0mself\u001b[0m\u001b[0;34m,\u001b[0m \u001b[0mfactor\u001b[0m\u001b[0;34m,\u001b[0m \u001b[0mbox\u001b[0m\u001b[0;34m=\u001b[0m\u001b[0;32mNone\u001b[0m\u001b[0;34m)\u001b[0m\u001b[0;34m:\u001b[0m\u001b[0;34m\u001b[0m\u001b[0;34m\u001b[0m\u001b[0m\n",
      "\u001b[0;31mKeyboardInterrupt\u001b[0m: "
     ]
    }
   ],
   "source": [
    "dicts = list(chain.from_iterable([DatasetCatalog.get(k) for k in [visualize_dataset_name]]))\n",
    "metadata = MetadataCatalog.get(visualize_dataset_name)\n",
    "print(visualize_dataset_name)\n",
    "\n",
    "for dic in tqdm.tqdm(dicts):\n",
    "    im = utils.read_image(dic[\"file_name\"], \"RGB\")\n",
    "    outputs = predictor(im)\n",
    "    for i in range(len(outputs['instances'])):\n",
    "        instance = outputs['instances'][i]\n",
    "        pred_boxes = instance.get('pred_boxes')\n",
    "        # from pdb import set_trace as bp; bp()\n",
    "        # Compute iou\n",
    "#         for j in range(i+1, len(outputs['instances'])):\n",
    "#             b1 = pred_boxes.tensor.data.cpu().numpy()[0]\n",
    "#             b2 = outputs['instances'][j].get('pred_boxes').tensor.data.cpu().numpy()[0]\n",
    "#             iou = get_iou(b1, b2)\n",
    "#             assert iou <= 0.5\n",
    "            \n",
    "        area.append(pred_boxes.area().data.cpu().numpy()[0])\n",
    "        percentage.append(instance.get('scores').data.cpu().numpy()[0])"
   ]
  },
  {
   "cell_type": "code",
   "execution_count": 44,
   "id": "b38a07bd",
   "metadata": {},
   "outputs": [
    {
     "data": {
      "image/png": "[encoded data removed]",
      "text/plain": [
       "<Figure size 432x288 with 1 Axes>"
      ]
     },
     "metadata": {
      "needs_background": "light"
     },
     "output_type": "display_data"
    }
   ],
   "source": [
    "import matplotlib.pyplot as plt\n",
    "num_bins = 5\n",
    "n, bins, patches = plt.hist(percentage, num_bins, facecolor='blue', alpha=0.5)\n",
    "plt.xlabel(\"Confidence of Prediction\")\n",
    "plt.ylabel(\"Counts\")\n",
    "plt.show()"
   ]
  },
  {
   "cell_type": "code",
   "execution_count": 45,
   "id": "7bfa6849",
   "metadata": {},
   "outputs": [
    {
     "data": {
      "image/png": "[encoded data removed]",
      "text/plain": [
       "<Figure size 432x288 with 1 Axes>"
      ]
     },
     "metadata": {
      "needs_background": "light"
     },
     "output_type": "display_data"
    }
   ],
   "source": [
    "import matplotlib.pyplot as plt\n",
    "area_a = np.array(area)\n",
    "small_cond = np.bitwise_and(area_a>0, area_a<=(32**2))\n",
    "small_count = len(np.where(small_cond)[0])\n",
    "\n",
    "med_cond = np.bitwise_and(area_a>(32**2), area_a<=(96**2))\n",
    "med_count = len(np.where(med_cond)[0])\n",
    "\n",
    "large_cond = area_a > (96**2)\n",
    "larege_count = len(np.where(large_cond)[0])\n",
    "\n",
    "fig = plt.figure()\n",
    "ax = fig.add_axes([0,0,1,1])\n",
    "langs = ['Small', 'Medium', 'Large']\n",
    "students = [small_count, med_count, larege_count]\n",
    "ax.bar(langs,students)\n",
    "plt.xlabel(\"Size of Predicted Bounding Box\")\n",
    "plt.ylabel(\"Counts\")\n",
    "plt.show()"
   ]
  },
  {
   "cell_type": "code",
   "execution_count": 46,
   "id": "832854d9",
   "metadata": {},
   "outputs": [
    {
     "name": "stdout",
     "output_type": "stream",
     "text": [
      "6145\n"
     ]
    }
   ],
   "source": [
    "print(len(area))"
   ]
  },
  {
   "cell_type": "code",
   "execution_count": 15,
   "id": "b4f9f656",
   "metadata": {},
   "outputs": [
    {
     "name": "stdout",
     "output_type": "stream",
     "text": [
      "/usr0/tma1/datasets/nuimages/detectron_data/val_test_trafficcone_detectron.json\n",
      "nuimages_test_trafficone\n"
     ]
    },
    {
     "name": "stderr",
     "output_type": "stream",
     "text": [
      " 16%|█▌        | 367/2263 [00:35<03:02, 10.38it/s]\n"
     ]
    },
    {
     "ename": "KeyboardInterrupt",
     "evalue": "",
     "output_type": "error",
     "traceback": [
      "\u001b[0;31m---------------------------------------------------------------------------\u001b[0m",
      "\u001b[0;31mKeyboardInterrupt\u001b[0m                         Traceback (most recent call last)",
      "\u001b[0;32m<ipython-input-15-98b0bf265f13>\u001b[0m in \u001b[0;36m<module>\u001b[0;34m()\u001b[0m\n\u001b[1;32m      4\u001b[0m \u001b[0;34m\u001b[0m\u001b[0m\n\u001b[1;32m      5\u001b[0m \u001b[0;32mfor\u001b[0m \u001b[0mdic\u001b[0m \u001b[0;32min\u001b[0m \u001b[0mtqdm\u001b[0m\u001b[0;34m.\u001b[0m\u001b[0mtqdm\u001b[0m\u001b[0;34m(\u001b[0m\u001b[0mdicts\u001b[0m\u001b[0;34m)\u001b[0m\u001b[0;34m:\u001b[0m\u001b[0;34m\u001b[0m\u001b[0;34m\u001b[0m\u001b[0m\n\u001b[0;32m----> 6\u001b[0;31m     \u001b[0mim\u001b[0m \u001b[0;34m=\u001b[0m \u001b[0mutils\u001b[0m\u001b[0;34m.\u001b[0m\u001b[0mread_image\u001b[0m\u001b[0;34m(\u001b[0m\u001b[0mdic\u001b[0m\u001b[0;34m[\u001b[0m\u001b[0;34m\"file_name\"\u001b[0m\u001b[0;34m]\u001b[0m\u001b[0;34m,\u001b[0m \u001b[0;34m\"RGB\"\u001b[0m\u001b[0;34m)\u001b[0m\u001b[0;34m\u001b[0m\u001b[0;34m\u001b[0m\u001b[0m\n\u001b[0m\u001b[1;32m      7\u001b[0m     \u001b[0moutputs\u001b[0m \u001b[0;34m=\u001b[0m \u001b[0mpredictor\u001b[0m\u001b[0;34m(\u001b[0m\u001b[0mim\u001b[0m\u001b[0;34m)\u001b[0m\u001b[0;34m\u001b[0m\u001b[0;34m\u001b[0m\u001b[0m\n\u001b[1;32m      8\u001b[0m     \u001b[0mpredictions\u001b[0m \u001b[0;34m=\u001b[0m \u001b[0;34m[\u001b[0m\u001b[0;34m]\u001b[0m\u001b[0;34m\u001b[0m\u001b[0;34m\u001b[0m\u001b[0m\n",
      "\u001b[0;32m/usr1/home/tma1/Desktop/venv/lib/python3.6/site-packages/detectron2/data/detection_utils.py\u001b[0m in \u001b[0;36mread_image\u001b[0;34m(file_name, format)\u001b[0m\n\u001b[1;32m    183\u001b[0m         \u001b[0;31m# work around this bug: https://github.com/python-pillow/Pillow/issues/3973\u001b[0m\u001b[0;34m\u001b[0m\u001b[0;34m\u001b[0m\u001b[0;34m\u001b[0m\u001b[0m\n\u001b[1;32m    184\u001b[0m         \u001b[0mimage\u001b[0m \u001b[0;34m=\u001b[0m \u001b[0m_apply_exif_orientation\u001b[0m\u001b[0;34m(\u001b[0m\u001b[0mimage\u001b[0m\u001b[0;34m)\u001b[0m\u001b[0;34m\u001b[0m\u001b[0;34m\u001b[0m\u001b[0m\n\u001b[0;32m--> 185\u001b[0;31m         \u001b[0;32mreturn\u001b[0m \u001b[0mconvert_PIL_to_numpy\u001b[0m\u001b[0;34m(\u001b[0m\u001b[0mimage\u001b[0m\u001b[0;34m,\u001b[0m \u001b[0mformat\u001b[0m\u001b[0;34m)\u001b[0m\u001b[0;34m\u001b[0m\u001b[0;34m\u001b[0m\u001b[0m\n\u001b[0m\u001b[1;32m    186\u001b[0m \u001b[0;34m\u001b[0m\u001b[0m\n\u001b[1;32m    187\u001b[0m \u001b[0;34m\u001b[0m\u001b[0m\n",
      "\u001b[0;32m/usr1/home/tma1/Desktop/venv/lib/python3.6/site-packages/detectron2/data/detection_utils.py\u001b[0m in \u001b[0;36mconvert_PIL_to_numpy\u001b[0;34m(image, format)\u001b[0m\n\u001b[1;32m     74\u001b[0m         \u001b[0;32mif\u001b[0m \u001b[0mformat\u001b[0m \u001b[0;32min\u001b[0m \u001b[0;34m[\u001b[0m\u001b[0;34m\"BGR\"\u001b[0m\u001b[0;34m,\u001b[0m \u001b[0;34m\"YUV-BT.601\"\u001b[0m\u001b[0;34m]\u001b[0m\u001b[0;34m:\u001b[0m\u001b[0;34m\u001b[0m\u001b[0;34m\u001b[0m\u001b[0m\n\u001b[1;32m     75\u001b[0m             \u001b[0mconversion_format\u001b[0m \u001b[0;34m=\u001b[0m \u001b[0;34m\"RGB\"\u001b[0m\u001b[0;34m\u001b[0m\u001b[0;34m\u001b[0m\u001b[0m\n\u001b[0;32m---> 76\u001b[0;31m         \u001b[0mimage\u001b[0m \u001b[0;34m=\u001b[0m \u001b[0mimage\u001b[0m\u001b[0;34m.\u001b[0m\u001b[0mconvert\u001b[0m\u001b[0;34m(\u001b[0m\u001b[0mconversion_format\u001b[0m\u001b[0;34m)\u001b[0m\u001b[0;34m\u001b[0m\u001b[0;34m\u001b[0m\u001b[0m\n\u001b[0m\u001b[1;32m     77\u001b[0m     \u001b[0mimage\u001b[0m \u001b[0;34m=\u001b[0m \u001b[0mnp\u001b[0m\u001b[0;34m.\u001b[0m\u001b[0masarray\u001b[0m\u001b[0;34m(\u001b[0m\u001b[0mimage\u001b[0m\u001b[0;34m)\u001b[0m\u001b[0;34m\u001b[0m\u001b[0;34m\u001b[0m\u001b[0m\n\u001b[1;32m     78\u001b[0m     \u001b[0;31m# PIL squeezes out the channel dimension for \"L\", so make it HWC\u001b[0m\u001b[0;34m\u001b[0m\u001b[0;34m\u001b[0m\u001b[0;34m\u001b[0m\u001b[0m\n",
      "\u001b[0;32m/usr1/home/tma1/Desktop/venv/lib/python3.6/site-packages/PIL/Image.py\u001b[0m in \u001b[0;36mconvert\u001b[0;34m(self, mode, matrix, dither, palette, colors)\u001b[0m\n\u001b[1;32m    913\u001b[0m         \"\"\"\n\u001b[1;32m    914\u001b[0m \u001b[0;34m\u001b[0m\u001b[0m\n\u001b[0;32m--> 915\u001b[0;31m         \u001b[0mself\u001b[0m\u001b[0;34m.\u001b[0m\u001b[0mload\u001b[0m\u001b[0;34m(\u001b[0m\u001b[0;34m)\u001b[0m\u001b[0;34m\u001b[0m\u001b[0;34m\u001b[0m\u001b[0m\n\u001b[0m\u001b[1;32m    916\u001b[0m \u001b[0;34m\u001b[0m\u001b[0m\n\u001b[1;32m    917\u001b[0m         \u001b[0;32mif\u001b[0m \u001b[0;32mnot\u001b[0m \u001b[0mmode\u001b[0m \u001b[0;32mand\u001b[0m \u001b[0mself\u001b[0m\u001b[0;34m.\u001b[0m\u001b[0mmode\u001b[0m \u001b[0;34m==\u001b[0m \u001b[0;34m\"P\"\u001b[0m\u001b[0;34m:\u001b[0m\u001b[0;34m\u001b[0m\u001b[0;34m\u001b[0m\u001b[0m\n",
      "\u001b[0;32m/usr1/home/tma1/Desktop/venv/lib/python3.6/site-packages/PIL/ImageFile.py\u001b[0m in \u001b[0;36mload\u001b[0;34m(self)\u001b[0m\n\u001b[1;32m    253\u001b[0m \u001b[0;34m\u001b[0m\u001b[0m\n\u001b[1;32m    254\u001b[0m                             \u001b[0mb\u001b[0m \u001b[0;34m=\u001b[0m \u001b[0mb\u001b[0m \u001b[0;34m+\u001b[0m \u001b[0ms\u001b[0m\u001b[0;34m\u001b[0m\u001b[0;34m\u001b[0m\u001b[0m\n\u001b[0;32m--> 255\u001b[0;31m                             \u001b[0mn\u001b[0m\u001b[0;34m,\u001b[0m \u001b[0merr_code\u001b[0m \u001b[0;34m=\u001b[0m \u001b[0mdecoder\u001b[0m\u001b[0;34m.\u001b[0m\u001b[0mdecode\u001b[0m\u001b[0;34m(\u001b[0m\u001b[0mb\u001b[0m\u001b[0;34m)\u001b[0m\u001b[0;34m\u001b[0m\u001b[0;34m\u001b[0m\u001b[0m\n\u001b[0m\u001b[1;32m    256\u001b[0m                             \u001b[0;32mif\u001b[0m \u001b[0mn\u001b[0m \u001b[0;34m<\u001b[0m \u001b[0;36m0\u001b[0m\u001b[0;34m:\u001b[0m\u001b[0;34m\u001b[0m\u001b[0;34m\u001b[0m\u001b[0m\n\u001b[1;32m    257\u001b[0m                                 \u001b[0;32mbreak\u001b[0m\u001b[0;34m\u001b[0m\u001b[0;34m\u001b[0m\u001b[0m\n",
      "\u001b[0;31mKeyboardInterrupt\u001b[0m: "
     ]
    }
   ],
   "source": [
    "dicts = list(chain.from_iterable([DatasetCatalog.get(k) for k in [visualize_dataset_name]]))\n",
    "metadata = MetadataCatalog.get(visualize_dataset_name)\n",
    "print(visualize_dataset_name)\n",
    "\n",
    "for dic in tqdm.tqdm(dicts):\n",
    "    im = utils.read_image(dic[\"file_name\"], \"RGB\")\n",
    "    outputs = predictor(im)\n",
    "    predictions = []\n",
    "\n",
    "    for i in range(len(outputs['instances'])):\n",
    "        predictions.append(format_instance(outputs['instances'][i], category_dict))\n",
    "    \n",
    "    img_name = dic[\"file_name\"].split('/')[-1]\n",
    "    txt_name = img_name.split('.')[0] + '.txt'\n",
    "    txt_name = os.path.join(output_split_folder, txt_name)\n",
    "    \n",
    "    # Write result to folder\n",
    "    with open(txt_name, 'w+') as fd:\n",
    "        fd.write('\\n'.join(predictions))"
   ]
  },
  {
   "cell_type": "markdown",
   "id": "69bf5e0e",
   "metadata": {},
   "source": [
    "Create ground truth formats"
   ]
  },
  {
   "cell_type": "code",
   "execution_count": 71,
   "id": "9d743d81",
   "metadata": {},
   "outputs": [
    {
     "name": "stderr",
     "output_type": "stream",
     "text": [
      "100%|██████████| 2263/2263 [00:00<00:00, 30553.08it/s]\n"
     ]
    }
   ],
   "source": [
    "gt_eval = '/usr0/tma1/datasets/nuimages/detectron_data/evaluation_ground_truth'\n",
    "gt_eval_split = os.path.join(gt_eval, visualize_dataset_name)\n",
    "if not os.path.exists(gt_eval_split):\n",
    "    os.mkdir(gt_eval_split)\n",
    "\n",
    "with open(os.path.join(dataroot, val_file), 'r') as fd:\n",
    "    data = json.load(fd)\n",
    "    i = 0;\n",
    "    for d in tqdm.tqdm(data):\n",
    "        i += 1\n",
    "        img_name = d['file_name'].split('/')[-1]\n",
    "        txt_name = img_name.split('.')[0] + '.txt'\n",
    "        annotation = []\n",
    "        for anno in d['annotations']:\n",
    "            pred_boxes = anno['bbox']\n",
    "            class_name = category_dict[anno['category_id']]\n",
    "            rslt = '{} {} {} {} {}'.format(class_name, pred_boxes[0], pred_boxes[1], pred_boxes[2], pred_boxes[3])\n",
    "            annotation.append(rslt)\n",
    "        \n",
    "        out_file = os.path.join(gt_eval_split, txt_name)\n",
    "        with open(out_file, 'w+') as fd:\n",
    "            fd.write('\\n'.join(annotation))"
   ]
  },
  {
   "cell_type": "code",
   "execution_count": 53,
   "id": "67107081",
   "metadata": {},
   "outputs": [
    {
     "data": {
      "image/png": "[encoded data removed]",
      "text/plain": [
       "<Figure size 432x288 with 1 Axes>"
      ]
     },
     "metadata": {
      "needs_background": "light"
     },
     "output_type": "display_data"
    }
   ],
   "source": [
    "import matplotlib.pyplot as plt\n",
    "import matplotlib.image as mpimg\n",
    "img = mpimg.imread('/home/tma1/Desktop/construction_detection/mAP/output/classes/traffic_cones.png')\n",
    "imgplot = plt.imshow(img)\n",
    "plt.show()"
   ]
  },
  {
   "cell_type": "code",
   "execution_count": 72,
   "id": "ddbe7bef",
   "metadata": {},
   "outputs": [],
   "source": [
    "gt = []\n",
    "pred = []\n",
    "\n",
    "gt_folder = '/usr0/tma1/datasets/nuimages/detectron_data/evaluation_ground_truth/nuimages_test_trafficone/'\n",
    "\n",
    "# [xmin, ymin, xmax, ymax, class_id, difficult, crowd]\n",
    "for file in os.listdir(gt_folder):\n",
    "    fd = open(os.path.join(gt_folder, file), 'r')\n",
    "    line = fd.readline()\n",
    "    per_im = []\n",
    "    while (line):\n",
    "        a = line.split(' ')\n",
    "        per_im.append([int(float(a[1])), int(float(a[2])), int(float(a[3])), int(float(a[4])), 0, 0, 0])\n",
    "        line = fd.readline()\n",
    "    gt.append(np.array(per_im))\n",
    "\n",
    "pred_folder = '/usr0/tma1/traffic_cone_detection/output/2021-10-26-01-38-57/evaluation_output/nuimages_test_trafficone/'\n",
    "\n",
    "# [xmin, ymin, xmax, ymax, class_id, confidence]\n",
    "for file in os.listdir(pred_folder):\n",
    "    fd = open(os.path.join(pred_folder, file), 'r')\n",
    "    try:\n",
    "        line = fd.readline()\n",
    "    except:\n",
    "        pred.append(np.array([]))\n",
    "        continue\n",
    "        \n",
    "    per_im = []\n",
    "    while (line):\n",
    "        a = line.split(' ')\n",
    "        per_im.append([int(float(a[2])), int(float(a[3])), int(float(a[4])), int(float(a[5])), 0, float(a[1])])\n",
    "        line = fd.readline()\n",
    "    pred.append(np.array(per_im))\n"
   ]
  },
  {
   "cell_type": "code",
   "execution_count": 73,
   "id": "a86c76e0",
   "metadata": {},
   "outputs": [
    {
     "name": "stderr",
     "output_type": "stream",
     "text": [
      "/usr1/home/tma1/Desktop/venv/lib/python3.6/site-packages/ipykernel_launcher.py:1: VisibleDeprecationWarning: Creating an ndarray from ragged nested sequences (which is a list-or-tuple of lists-or-tuples-or ndarrays with different lengths or shapes) is deprecated. If you meant to do this, you must specify 'dtype=object' when creating the ndarray\n",
      "  \"\"\"Entry point for launching an IPython kernel.\n",
      "/usr1/home/tma1/Desktop/venv/lib/python3.6/site-packages/ipykernel_launcher.py:2: VisibleDeprecationWarning: Creating an ndarray from ragged nested sequences (which is a list-or-tuple of lists-or-tuples-or ndarrays with different lengths or shapes) is deprecated. If you meant to do this, you must specify 'dtype=object' when creating the ndarray\n",
      "  \n"
     ]
    }
   ],
   "source": [
    "gt = np.array(gt)\n",
    "pred = np.array(pred)"
   ]
  },
  {
   "cell_type": "code",
   "execution_count": 77,
   "id": "b6569929",
   "metadata": {},
   "outputs": [
    {
     "name": "stdout",
     "output_type": "stream",
     "text": [
      "2263 2263\n",
      "[[1.51700000e+03 5.82000000e+02 1.57200000e+03 6.58000000e+02\n",
      "  0.00000000e+00 9.98020530e-01]\n",
      " [1.44300000e+03 5.92000000e+02 1.50000000e+03 6.85000000e+02\n",
      "  0.00000000e+00 9.93436098e-01]\n",
      " [5.82000000e+02 5.44000000e+02 5.93000000e+02 5.66000000e+02\n",
      "  0.00000000e+00 4.36525643e-01]\n",
      " [6.24000000e+02 5.42000000e+02 6.35000000e+02 5.65000000e+02\n",
      "  0.00000000e+00 5.44677675e-02]] [[562 467 600 537   0   0   0]]\n",
      "COCO mAP: 0.0\n"
     ]
    }
   ],
   "source": [
    "from mean_average_precision import MetricBuilder\n",
    "\n",
    "metric_fn = MetricBuilder.build_evaluation_metric(\"map_2d\", async_mode=True, num_classes=1)\n",
    "print(len(gt), len(pred))\n",
    "for i in range(1):\n",
    "    print(pred[i], gt[i])\n",
    "    metric_fn.add(pred[i], gt[i])\n",
    "\n",
    "print(f\"COCO mAP: {metric_fn.value(iou_thresholds=np.arange(0.5, 1.0, 0.05), recall_thresholds=np.arange(0., 1.01, 0.01), mpolicy='soft')['mAP']}\")"
   ]
  },
  {
   "cell_type": "code",
   "execution_count": 45,
   "id": "31fececb",
   "metadata": {},
   "outputs": [
    {
     "name": "stdout",
     "output_type": "stream",
     "text": [
      "/usr0/tma1/datasets/nuimages/detectron_data/val_val_trafficcone_detectron.json\n",
      "\u001b[32m[11/01 18:58:56 d2.data.dataset_mapper]: \u001b[0m[DatasetMapper] Augmentations used in inference: [ResizeShortestEdge(short_edge_length=(800, 800), max_size=1333, sample_style='choice')]\n",
      "\u001b[32m[11/01 18:58:56 d2.data.common]: \u001b[0mSerializing 2263 elements to byte tensors and concatenating them all ...\n",
      "\u001b[32m[11/01 18:58:56 d2.data.common]: \u001b[0mSerialized dataset takes 0.82 MiB\n",
      "\u001b[32m[11/01 19:01:03 d2.evaluation.coco_evaluation]: \u001b[0mPreparing results for COCO format ...\n",
      "\u001b[32m[11/01 19:01:03 d2.evaluation.coco_evaluation]: \u001b[0mSaving results to /usr0/tma1/traffic_cone_detection/output/2021-10-26-01-38-57/coco_instances_results.json\n",
      "\u001b[32m[11/01 19:01:03 d2.evaluation.coco_evaluation]: \u001b[0mEvaluating predictions with unofficial COCO API...\n",
      "Loading and preparing results...\n",
      "DONE (t=0.00s)\n",
      "creating index...\n",
      "index created!\n",
      "\u001b[32m[11/01 19:01:03 d2.evaluation.fast_eval_api]: \u001b[0mEvaluate annotation type *bbox*\n",
      "\u001b[32m[11/01 19:01:03 d2.evaluation.fast_eval_api]: \u001b[0mCOCOeval_opt.evaluate() finished in 0.13 seconds.\n",
      "\u001b[32m[11/01 19:01:03 d2.evaluation.fast_eval_api]: \u001b[0mAccumulating evaluation results...\n",
      "\u001b[32m[11/01 19:01:03 d2.evaluation.fast_eval_api]: \u001b[0mCOCOeval_opt.accumulate() finished in 0.01 seconds.\n",
      " Average Precision  (AP) @[ IoU=0.50:0.95 | area=   all | maxDets=100 ] = 0.000\n",
      " Average Precision  (AP) @[ IoU=0.50      | area=   all | maxDets=100 ] = 0.000\n",
      " Average Precision  (AP) @[ IoU=0.75      | area=   all | maxDets=100 ] = 0.000\n",
      " Average Precision  (AP) @[ IoU=0.50:0.95 | area= small | maxDets=100 ] = 0.000\n",
      " Average Precision  (AP) @[ IoU=0.50:0.95 | area=medium | maxDets=100 ] = 0.000\n",
      " Average Precision  (AP) @[ IoU=0.50:0.95 | area= large | maxDets=100 ] = 0.000\n",
      " Average Recall     (AR) @[ IoU=0.50:0.95 | area=   all | maxDets=  1 ] = 0.000\n",
      " Average Recall     (AR) @[ IoU=0.50:0.95 | area=   all | maxDets= 10 ] = 0.000\n",
      " Average Recall     (AR) @[ IoU=0.50:0.95 | area=   all | maxDets=100 ] = 0.000\n",
      " Average Recall     (AR) @[ IoU=0.50:0.95 | area= small | maxDets=100 ] = 0.000\n",
      " Average Recall     (AR) @[ IoU=0.50:0.95 | area=medium | maxDets=100 ] = 0.000\n",
      " Average Recall     (AR) @[ IoU=0.50:0.95 | area= large | maxDets=100 ] = 0.000\n",
      "\u001b[32m[11/01 19:01:03 d2.evaluation.coco_evaluation]: \u001b[0mEvaluation results for bbox: \n",
      "|  AP   |  AP50  |  AP75  |  APs  |  APm  |  APl  |\n",
      "|:-----:|:------:|:------:|:-----:|:-----:|:-----:|\n",
      "| 0.000 | 0.000  | 0.000  | 0.000 | 0.000 | 0.000 |\n",
      "OrderedDict([('bbox', {'AP': 0.0, 'AP50': 0.0, 'AP75': 0.0, 'APs': 0.0, 'APm': 0.0, 'APl': 0.0})])\n"
     ]
    }
   ],
   "source": [
    "results = OrderedDict()\n",
    "for dataset_name in cfg.DATASETS.TEST:\n",
    "    data_loader = build_detection_test_loader(cfg, dataset_name)\n",
    "    dataset_name = cfg.DATASETS.TEST[0]\n",
    "    evaluator = COCOEvaluator(dataset_name, tasks=[\"bbox\"], output_dir=cfg.OUTPUT_DIR)\n",
    "    model = model.eval()\n",
    "    with torch.no_grad():\n",
    "        def get_all_inputs_outputs():\n",
    "          for data in data_loader:\n",
    "            yield data, model(data)\n",
    "\n",
    "        for inputs, outputs in get_all_inputs_outputs():\n",
    "          evaluator.process(inputs, outputs)\n",
    "        eval_results = evaluator.evaluate()"
   ]
  }
 ],
 "metadata": {
  "kernelspec": {
   "display_name": "Python 3",
   "language": "python",
   "name": "python3"
  },
  "language_info": {
   "codemirror_mode": {
    "name": "ipython",
    "version": 3
   },
   "file_extension": ".py",
   "mimetype": "text/x-python",
   "name": "python",
   "nbconvert_exporter": "python",
   "pygments_lexer": "ipython3",
   "version": "3.6.9"
  }
 },
 "nbformat": 4,
 "nbformat_minor": 5
}

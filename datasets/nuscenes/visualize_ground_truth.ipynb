{
 "cells": [
  {
   "cell_type": "code",
   "execution_count": 48,
   "id": "a75ca8fd",
   "metadata": {},
   "outputs": [],
   "source": [
    "from detectron2.data import (\n",
    "    DatasetCatalog,\n",
    "    MetadataCatalog,\n",
    "    build_detection_train_loader,\n",
    "    build_detection_test_loader,\n",
    "    DatasetMapper,\n",
    ")\n",
    "import argparse, os, json\n",
    "from itertools import chain\n",
    "from detectron2.utils.visualizer import Visualizer\n",
    "from detectron2.data import detection_utils as utils\n",
    "import tqdm"
   ]
  },
  {
   "cell_type": "code",
   "execution_count": 49,
   "id": "d281eed2",
   "metadata": {},
   "outputs": [],
   "source": [
    "def get_data(args, file_name):\n",
    "    def ret_data():\n",
    "        output_path = os.path.join(args.dataroot, file_name)\n",
    "        print(output_path)\n",
    "        assert os.path.exists(output_path)\n",
    "        with open(output_path, 'r') as fd:\n",
    "            data = json.load(fd)\n",
    "        fd.close()\n",
    "        return data\n",
    "    return ret_data"
   ]
  },
  {
   "cell_type": "code",
   "execution_count": 50,
   "id": "ff1c58e7",
   "metadata": {},
   "outputs": [],
   "source": [
    "parser = argparse.ArgumentParser(description='Process some integers.')\n",
    "parser.add_argument('--dataroot', type=str, \\\n",
    "                    default='/usr0/tma1/datasets/nuimages/detectron_data')\n",
    "parser.add_argument('--train_file', type=str,\\\n",
    "                    default='v1.0-train_construction_detectron.json') \n",
    "parser.add_argument('--val_file', type=str,\\\n",
    "                    default='val_val_construction_detectron.json') \n",
    "parser.add_argument('--test_file', type=str,\\\n",
    "                    default='val_test_construction_detectron.json') \n",
    "args = parser.parse_args([])"
   ]
  },
  {
   "cell_type": "code",
   "execution_count": 51,
   "id": "08acd42f",
   "metadata": {},
   "outputs": [
    {
     "ename": "AssertionError",
     "evalue": "Dataset 'nuimages_train_trafficone' is already registered!",
     "output_type": "error",
     "traceback": [
      "\u001b[0;31m---------------------------------------------------------------------------\u001b[0m",
      "\u001b[0;31mAssertionError\u001b[0m                            Traceback (most recent call last)",
      "\u001b[0;32m<ipython-input-51-8ce27dfaa929>\u001b[0m in \u001b[0;36m<module>\u001b[0;34m()\u001b[0m\n\u001b[1;32m      1\u001b[0m \u001b[0mcategories\u001b[0m \u001b[0;34m=\u001b[0m \u001b[0;34m[\u001b[0m\u001b[0;34m'human.pedestrian.construction_worker'\u001b[0m\u001b[0;34m,\u001b[0m \u001b[0;34m'movable_object.barrier'\u001b[0m\u001b[0;34m,\u001b[0m \u001b[0;34m'movable_object.trafficcone'\u001b[0m\u001b[0;34m,\u001b[0m \u001b[0;34m'vehicle.construction'\u001b[0m\u001b[0;34m]\u001b[0m\u001b[0;34m\u001b[0m\u001b[0;34m\u001b[0m\u001b[0m\n\u001b[1;32m      2\u001b[0m \u001b[0mcategory_dict\u001b[0m \u001b[0;34m=\u001b[0m \u001b[0;34m{\u001b[0m\u001b[0mi\u001b[0m\u001b[0;34m:\u001b[0m \u001b[0mname\u001b[0m \u001b[0;32mfor\u001b[0m \u001b[0mi\u001b[0m\u001b[0;34m,\u001b[0m \u001b[0mname\u001b[0m \u001b[0;32min\u001b[0m \u001b[0menumerate\u001b[0m\u001b[0;34m(\u001b[0m\u001b[0mcategories\u001b[0m\u001b[0;34m)\u001b[0m\u001b[0;34m}\u001b[0m\u001b[0;34m\u001b[0m\u001b[0;34m\u001b[0m\u001b[0m\n\u001b[0;32m----> 3\u001b[0;31m \u001b[0mdata_train\u001b[0m \u001b[0;34m=\u001b[0m \u001b[0mDatasetCatalog\u001b[0m\u001b[0;34m.\u001b[0m\u001b[0mregister\u001b[0m\u001b[0;34m(\u001b[0m\u001b[0;34m\"nuimages_train_trafficone\"\u001b[0m\u001b[0;34m,\u001b[0m \u001b[0mget_data\u001b[0m\u001b[0;34m(\u001b[0m\u001b[0margs\u001b[0m\u001b[0;34m,\u001b[0m \u001b[0margs\u001b[0m\u001b[0;34m.\u001b[0m\u001b[0mtrain_file\u001b[0m\u001b[0;34m)\u001b[0m\u001b[0;34m)\u001b[0m\u001b[0;34m\u001b[0m\u001b[0;34m\u001b[0m\u001b[0m\n\u001b[0m\u001b[1;32m      4\u001b[0m \u001b[0mMetadataCatalog\u001b[0m\u001b[0;34m.\u001b[0m\u001b[0mget\u001b[0m\u001b[0;34m(\u001b[0m\u001b[0;34m\"nuimages_train_trafficone\"\u001b[0m\u001b[0;34m)\u001b[0m\u001b[0;34m.\u001b[0m\u001b[0mthing_classes\u001b[0m \u001b[0;34m=\u001b[0m \u001b[0mcategory_dict\u001b[0m\u001b[0;34m\u001b[0m\u001b[0;34m\u001b[0m\u001b[0m\n\u001b[1;32m      5\u001b[0m \u001b[0mdata_val\u001b[0m \u001b[0;34m=\u001b[0m \u001b[0mDatasetCatalog\u001b[0m\u001b[0;34m.\u001b[0m\u001b[0mregister\u001b[0m\u001b[0;34m(\u001b[0m\u001b[0;34m\"nuimages_val_trafficone\"\u001b[0m\u001b[0;34m,\u001b[0m \u001b[0mget_data\u001b[0m\u001b[0;34m(\u001b[0m\u001b[0margs\u001b[0m\u001b[0;34m,\u001b[0m \u001b[0margs\u001b[0m\u001b[0;34m.\u001b[0m\u001b[0mval_file\u001b[0m\u001b[0;34m)\u001b[0m\u001b[0;34m)\u001b[0m\u001b[0;34m\u001b[0m\u001b[0;34m\u001b[0m\u001b[0m\n",
      "\u001b[0;32m/usr1/home/tma1/Desktop/venv/lib/python3.6/site-packages/detectron2/data/catalog.py\u001b[0m in \u001b[0;36mregister\u001b[0;34m(self, name, func)\u001b[0m\n\u001b[1;32m     35\u001b[0m         \"\"\"\n\u001b[1;32m     36\u001b[0m         \u001b[0;32massert\u001b[0m \u001b[0mcallable\u001b[0m\u001b[0;34m(\u001b[0m\u001b[0mfunc\u001b[0m\u001b[0;34m)\u001b[0m\u001b[0;34m,\u001b[0m \u001b[0;34m\"You must register a function with `DatasetCatalog.register`!\"\u001b[0m\u001b[0;34m\u001b[0m\u001b[0;34m\u001b[0m\u001b[0m\n\u001b[0;32m---> 37\u001b[0;31m         \u001b[0;32massert\u001b[0m \u001b[0mname\u001b[0m \u001b[0;32mnot\u001b[0m \u001b[0;32min\u001b[0m \u001b[0mself\u001b[0m\u001b[0;34m,\u001b[0m \u001b[0;34m\"Dataset '{}' is already registered!\"\u001b[0m\u001b[0;34m.\u001b[0m\u001b[0mformat\u001b[0m\u001b[0;34m(\u001b[0m\u001b[0mname\u001b[0m\u001b[0;34m)\u001b[0m\u001b[0;34m\u001b[0m\u001b[0;34m\u001b[0m\u001b[0m\n\u001b[0m\u001b[1;32m     38\u001b[0m         \u001b[0mself\u001b[0m\u001b[0;34m[\u001b[0m\u001b[0mname\u001b[0m\u001b[0;34m]\u001b[0m \u001b[0;34m=\u001b[0m \u001b[0mfunc\u001b[0m\u001b[0;34m\u001b[0m\u001b[0;34m\u001b[0m\u001b[0m\n\u001b[1;32m     39\u001b[0m \u001b[0;34m\u001b[0m\u001b[0m\n",
      "\u001b[0;31mAssertionError\u001b[0m: Dataset 'nuimages_train_trafficone' is already registered!"
     ]
    }
   ],
   "source": [
    "categories = ['human.pedestrian.construction_worker', 'movable_object.barrier', 'movable_object.trafficcone', 'vehicle.construction']\n",
    "category_dict = {i: name for i, name in enumerate(categories)}\n",
    "data_train = DatasetCatalog.register(\"nuimages_train_trafficone\", get_data(args, args.train_file))\n",
    "MetadataCatalog.get(\"nuimages_train_trafficone\").thing_classes = category_dict\n",
    "data_val = DatasetCatalog.register(\"nuimages_val_trafficone\", get_data(args, args.val_file))\n",
    "MetadataCatalog.get(\"nuimages_val_trafficone\").thing_classes = category_dict\n",
    "data_test = DatasetCatalog.register(\"nuimages_test_trafficone\", get_data(args, args.test_file))\n",
    "MetadataCatalog.get(\"nuimages_test_trafficone\").thing_classes = category_dict"
   ]
  },
  {
   "cell_type": "code",
   "execution_count": 52,
   "id": "7e49f21c",
   "metadata": {},
   "outputs": [],
   "source": [
    "output_dir = '/usr0/tma1/datasets/nuimages/object_detection_annotations/'\n",
    "output_dir = os.path.join(output_dir, 'val_test_construction_detectron')\n",
    "if not os.path.exists(output_dir):\n",
    "    os.makedirs(output_dir)\n",
    "visualize_dataset_name=\"nuimages_test_trafficone\"\n",
    "scale=5.0\n",
    "show_image=False"
   ]
  },
  {
   "cell_type": "code",
   "execution_count": 53,
   "id": "bf14271b",
   "metadata": {},
   "outputs": [],
   "source": [
    "def output(vis, fname):\n",
    "    if show_image:\n",
    "        print(fname)\n",
    "        img = vis.get_image()[:, :, ::-1]\n",
    "        # cv2.imshow(\"window\", vis.get_image()[:, :, ::-1])\n",
    "        figure(figsize=(10,10), dpi=80)\n",
    "        plt.imshow(img)\n",
    "        plt.show()\n",
    "    else:\n",
    "        filepath = os.path.join(output_dir, fname)\n",
    "        # print(\"Saving to {} ...\".format(filepath))\n",
    "        vis.save(filepath)"
   ]
  },
  {
   "cell_type": "code",
   "execution_count": null,
   "id": "6fd0bd1b",
   "metadata": {},
   "outputs": [
    {
     "name": "stdout",
     "output_type": "stream",
     "text": [
      "/usr0/tma1/datasets/nuimages/detectron_data/val_test_construction_detectron.json\n"
     ]
    },
    {
     "name": "stderr",
     "output_type": "stream",
     "text": [
      " 54%|█████▍    | 1662/3061 [59:44<49:41,  2.13s/it]  "
     ]
    }
   ],
   "source": [
    "dicts = list(chain.from_iterable([DatasetCatalog.get(k) for k in [visualize_dataset_name]]))\n",
    "metadata = MetadataCatalog.get(visualize_dataset_name)\n",
    "for dic in tqdm.tqdm(dicts):\n",
    "    img = utils.read_image(dic[\"file_name\"], \"RGB\")\n",
    "    visualizer = Visualizer(img, metadata=metadata, scale=scale)\n",
    "    vis = visualizer.draw_dataset_dict(dic)\n",
    "    output(vis, os.path.basename(dic[\"file_name\"]))"
   ]
  },
  {
   "cell_type": "code",
   "execution_count": null,
   "id": "83097242",
   "metadata": {},
   "outputs": [],
   "source": []
  }
 ],
 "metadata": {
  "kernelspec": {
   "display_name": "Python 3",
   "language": "python",
   "name": "python3"
  },
  "language_info": {
   "codemirror_mode": {
    "name": "ipython",
    "version": 3
   },
   "file_extension": ".py",
   "mimetype": "text/x-python",
   "name": "python",
   "nbconvert_exporter": "python",
   "pygments_lexer": "ipython3",
   "version": "3.6.9"
  }
 },
 "nbformat": 4,
 "nbformat_minor": 5
}
